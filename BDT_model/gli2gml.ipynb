{
 "cells": [
  {
   "cell_type": "code",
   "execution_count": 3,
   "id": "e93010f3",
   "metadata": {},
   "outputs": [],
   "source": [
    "import re"
   ]
  },
  {
   "cell_type": "code",
   "execution_count": 2,
   "id": "c96c56c7",
   "metadata": {},
   "outputs": [
    {
     "name": "stdout",
     "output_type": "stream",
     "text": [
      "\t<points>\n",
      "\t\t<point id=\"0\" x=\"0.0\" y=\"0.0\" z=\"0.0\"/>\n",
      "\t\t<point id=\"1\" x=\"5.0\" y=\"0.0\" z=\"0.0\"/>\n",
      "\t\t<point id=\"2\" x=\"5.0\" y=\"0.0\" z=\"5.0\"/>\n",
      "\t\t<point id=\"3\" x=\"0.0\" y=\"0.0\" z=\"5.0\"/>\n",
      "\t\t<point id=\"4\" x=\"0.0\" y=\"0.0\" z=\"1.0\"/>\n",
      "\t\t<point id=\"5\" x=\"0.0\" y=\"0.0\" z=\"2.0\"/>\n",
      "\t\t<point id=\"6\" x=\"0.0\" y=\"0.0\" z=\"3.0\"/>\n",
      "\t\t<point id=\"7\" x=\"0.0\" y=\"0.0\" z=\"4.0\"/>\n",
      "\t</points>\n",
      "\n"
     ]
    }
   ],
   "source": [
    "id_num = []; x = []; y = []; z = [];\n",
    "with open(\"CELL1.gli\",'r') as f:\n",
    "    group='#POINTS'\n",
    "    flag = False\n",
    "    for lineNo,line in enumerate(f):\n",
    "        if group in line:\n",
    "            flag = True\n",
    "            continue\n",
    "        elif line[0] == '#':\n",
    "            flag = False\n",
    "            \n",
    "        \n",
    "        if flag:\n",
    "            nums = re.findall(r'\\d+(?:\\.\\d+)?', line)\n",
    "            nums = nums[:4]\n",
    "            id_num.append(int(nums[0]))\n",
    "            x.append(float(nums[1]))\n",
    "            y.append(float(nums[2]))\n",
    "            z.append(float(nums[3]))\n",
    "            \n",
    "point_block = '\\t'+r'<points>' + '\\n'\n",
    "for id,x_,y_,z_ in zip(id_num,x,y,z):\n",
    "    point_block += '\\t\\t'+f'<point id=\"{id}\" x=\"{x_}\" y=\"{y_}\" z=\"{z_}\"' + r\"/>\" + '\\n'\n",
    "point_block += '\\t'+r'</points>' + '\\n'\n",
    "print(point_block)"
   ]
  },
  {
   "cell_type": "code",
   "execution_count": 50,
   "id": "9c91ed09",
   "metadata": {},
   "outputs": [
    {
     "name": "stdout",
     "output_type": "stream",
     "text": [
      "\t<polylines>\n",
      "\t\t<polyline id=\"0\" name=\"BOTTOM\">\n",
      "\t\t\t<pnt>0</pnt>\n",
      "\t\t\t<pnt>1</pnt>\n",
      "\t\t</polyline>\n",
      "\t\t<polyline id=\"1\" name=\"RIGHT\">\n",
      "\t\t\t<pnt>1</pnt>\n",
      "\t\t\t<pnt>2</pnt>\n",
      "\t\t</polyline>\n",
      "\t\t<polyline id=\"2\" name=\"PLY_4\">\n",
      "\t\t\t<pnt>2</pnt>\n",
      "\t\t\t<pnt>3</pnt>\n",
      "\t\t</polyline>\n",
      "\t\t<polyline id=\"3\" name=\"LEFT\">\n",
      "\t\t\t<pnt>3</pnt>\n",
      "\t\t\t<pnt>0</pnt>\n",
      "\t\t</polyline>\n",
      "\t\t<polyline id=\"4\" name=\"PLY_5\">\n",
      "\t\t\t<pnt>0</pnt>\n",
      "\t\t\t<pnt>1</pnt>\n",
      "\t\t\t<pnt>2</pnt>\n",
      "\t\t\t<pnt>3</pnt>\n",
      "\t\t\t<pnt>0</pnt>\n",
      "\t\t</polyline>\n",
      "\t</polyline>\n",
      "\n"
     ]
    }
   ],
   "source": [
    "id_num = []; names=[];pnts = []; \n",
    "del pnt_list\n",
    "with open(\"CELL1.gli\",'r') as f:\n",
    "    group=r'#POLYLINE'\n",
    "    flag1 = False\n",
    "    flag2 = False\n",
    "    flag3 = False\n",
    "    k = -1\n",
    "    for lineNo,line in enumerate(f):\n",
    "        if group in line:\n",
    "            flag1 = True\n",
    "            flag2 = False\n",
    "            flag3 = False\n",
    "            k += 1\n",
    "            id_num.append(k)\n",
    "            if 'pnt_list' in globals() or 'pnt_list' in locals():\n",
    "                pnts.append(pnt_list)\n",
    "            pnt_list = []\n",
    "            continue\n",
    "        elif line[0] == '#':\n",
    "            flag1 = False\n",
    "            flag2 = False\n",
    "            flag3 = False\n",
    "            \n",
    "            \n",
    "        if flag1 == True and r'$NAME' in line:\n",
    "            flag2 = True\n",
    "            continue\n",
    "        if flag1 == True and flag2==True:\n",
    "            names.append(re.sub(r\"\\s+\", \"\", line))\n",
    "            flag2=False\n",
    "            continue\n",
    "        if flag1 == True and r'$POINTS' in line:\n",
    "            flag3 = True\n",
    "            continue\n",
    "        elif flag1 == True and r'$MAT_GROUP' in line:\n",
    "            flag3 = False\n",
    "        \n",
    "        if flag1==True and flag3==True:\n",
    "#             print(line,re.findall(r'\\d+(?:\\.\\d+)?', line))\n",
    "            num = re.findall(r'\\d+(?:\\.\\d+)?', line)\n",
    "            pnt_list.append(int(num[0]))\n",
    "            \n",
    "\n",
    "polyLine_block = '\\t'+r'<polylines>' + '\\n'\n",
    "for id,name,pnt in zip(id_num,names,pnts):\n",
    "    polyLine_block += '\\t\\t'+f'<polyline id=\"{id}\" name=\"{name}\">' + '\\n'\n",
    "    for pnt_ in pnt:\n",
    "        polyLine_block += '\\t\\t\\t'+f'<pnt>{pnt_}'+r'</pnt>' + '\\n'\n",
    "    polyLine_block += '\\t\\t'+r'</polyline>' + '\\n'\n",
    "polyLine_block += '\\t'+r'</polyline>' + '\\n'\n",
    "print(polyLine_block)"
   ]
  },
  {
   "cell_type": "code",
   "execution_count": 51,
   "id": "78a25618",
   "metadata": {},
   "outputs": [],
   "source": [
    "header = r'<?xml version=\"1.0\" encoding=\"ISO-8859-1\"?>' + '\\n'\n",
    "header += r'<?xml-stylesheet type=\"text/xsl\" href=\"OpenGeoSysGLI.xsl\"?>' + '\\n\\n'\n",
    "header += r'<OpenGeoSysGLI xmlns:xsi=\"http://www.w3.org/2001/XMLSchema-instance\" xmlns:ogs=\"http://www.opengeosys.org\">' + '\\n'\n",
    "header += r'    <name>geometry</name>' + '\\n'\n",
    "footer = r'</OpenGeoSysGLI>'\n"
   ]
  },
  {
   "cell_type": "code",
   "execution_count": 52,
   "id": "0d3a96dc",
   "metadata": {},
   "outputs": [],
   "source": [
    "with open('out.gml','w') as f:\n",
    "    f.write(header)\n",
    "    f.write(point_block)\n",
    "    f.write(polyLine_block)\n",
    "    f.write(footer)\n",
    "    "
   ]
  },
  {
   "cell_type": "code",
   "execution_count": null,
   "id": "3bd81228",
   "metadata": {},
   "outputs": [],
   "source": []
  }
 ],
 "metadata": {
  "kernelspec": {
   "display_name": "graph",
   "language": "python",
   "name": "graph"
  },
  "language_info": {
   "codemirror_mode": {
    "name": "ipython",
    "version": 3
   },
   "file_extension": ".py",
   "mimetype": "text/x-python",
   "name": "python",
   "nbconvert_exporter": "python",
   "pygments_lexer": "ipython3",
   "version": "3.9.7"
  }
 },
 "nbformat": 4,
 "nbformat_minor": 5
}
